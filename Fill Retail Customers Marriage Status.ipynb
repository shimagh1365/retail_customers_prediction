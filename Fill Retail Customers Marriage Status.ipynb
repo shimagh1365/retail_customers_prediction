{
 "cells": [
  {
   "cell_type": "code",
   "execution_count": 1,
   "id": "74ee0a5f",
   "metadata": {},
   "outputs": [],
   "source": [
    "# import necessary packages\n",
    "import pandas as pd\n",
    "import numpy as np\n",
    "from sklearn import preprocessing\n",
    "from sklearn.neighbors import NearestNeighbors\n",
    "from sklearn.tree import DecisionTreeClassifier\n",
    "from sklearn.model_selection import train_test_split\n",
    "from sklearn.metrics  import f1_score,accuracy_score"
   ]
  },
  {
   "cell_type": "code",
   "execution_count": 2,
   "id": "b7dd033a",
   "metadata": {},
   "outputs": [],
   "source": [
    "INPUT_FILE = \"RetailCustomerSales.csv\"\n",
    "OUTPUT_FILE = \"RetailCustomerSales-Filled.csv\""
   ]
  },
  {
   "cell_type": "code",
   "execution_count": 3,
   "id": "b397c5ce",
   "metadata": {},
   "outputs": [
    {
     "name": "stderr",
     "output_type": "stream",
     "text": [
      "C:\\Users\\Asus\\AppData\\Local\\Temp\\ipykernel_23268\\519561911.py:4: DeprecationWarning: `np.object` is a deprecated alias for the builtin `object`. To silence this warning, use `object` by itself. Doing this will not modify any behavior and is safe. \n",
      "Deprecated in NumPy 1.20; for more details and guidance: https://numpy.org/devdocs/release/1.20.0-notes.html#deprecations\n",
      "  'ItemID':            np.object,\n",
      "C:\\Users\\Asus\\AppData\\Local\\Temp\\ipykernel_23268\\519561911.py:5: DeprecationWarning: `np.object` is a deprecated alias for the builtin `object`. To silence this warning, use `object` by itself. Doing this will not modify any behavior and is safe. \n",
      "Deprecated in NumPy 1.20; for more details and guidance: https://numpy.org/devdocs/release/1.20.0-notes.html#deprecations\n",
      "  'Sex':               np.object,\n",
      "C:\\Users\\Asus\\AppData\\Local\\Temp\\ipykernel_23268\\519561911.py:6: DeprecationWarning: `np.object` is a deprecated alias for the builtin `object`. To silence this warning, use `object` by itself. Doing this will not modify any behavior and is safe. \n",
      "Deprecated in NumPy 1.20; for more details and guidance: https://numpy.org/devdocs/release/1.20.0-notes.html#deprecations\n",
      "  'Age':               np.object,\n",
      "C:\\Users\\Asus\\AppData\\Local\\Temp\\ipykernel_23268\\519561911.py:8: DeprecationWarning: `np.object` is a deprecated alias for the builtin `object`. To silence this warning, use `object` by itself. Doing this will not modify any behavior and is safe. \n",
      "Deprecated in NumPy 1.20; for more details and guidance: https://numpy.org/devdocs/release/1.20.0-notes.html#deprecations\n",
      "  'CityType':          np.object,\n",
      "C:\\Users\\Asus\\AppData\\Local\\Temp\\ipykernel_23268\\519561911.py:9: DeprecationWarning: `np.object` is a deprecated alias for the builtin `object`. To silence this warning, use `object` by itself. Doing this will not modify any behavior and is safe. \n",
      "Deprecated in NumPy 1.20; for more details and guidance: https://numpy.org/devdocs/release/1.20.0-notes.html#deprecations\n",
      "  'YearsInCity':       np.object,\n"
     ]
    }
   ],
   "source": [
    "# Read Csv File And Make dataFrame\n",
    "dtypes = {\n",
    "    'CustomerID':         np.int64,\n",
    "    'ItemID':            np.object,\n",
    "    'Sex':               np.object,\n",
    "    'Age':               np.object,\n",
    "    'Profession':         np.int64,\n",
    "    'CityType':          np.object,\n",
    "    'YearsInCity':       np.object,\n",
    "    'Married':          np.float64,\n",
    "    'ItemCategory1':      np.int64,\n",
    "    'ItemCategory2':    np.float64,\n",
    "    'ItemCategory3':    np.float64,\n",
    "    'Amount':             np.int64,\n",
    "}\n",
    "df = pd.read_csv(INPUT_FILE, dtype=dtypes)"
   ]
  },
  {
   "cell_type": "code",
   "execution_count": 4,
   "id": "f3ae901f",
   "metadata": {},
   "outputs": [],
   "source": [
    "# preprocess the dataframe and normilize data\n",
    "class MultiColumnLabelEncoder:\n",
    "\n",
    "    def __init__(self, columns=None):\n",
    "        self.columns = columns # array of column names to encode\n",
    "\n",
    "\n",
    "    def fit(self, X, y=None):\n",
    "        self.encoders = {}\n",
    "        columns = X.columns if self.columns is None else self.columns\n",
    "        for col in columns:\n",
    "            self.encoders[col] = preprocessing.LabelEncoder().fit(X[col])\n",
    "        return self\n",
    "\n",
    "\n",
    "    def transform(self, X):\n",
    "        output = X.copy()\n",
    "        columns = X.columns if self.columns is None else self.columns\n",
    "        for col in columns:\n",
    "            output[col] = self.encoders[col].transform(X[col])\n",
    "        return output\n",
    "\n",
    "\n",
    "    def fit_transform(self, X, y=None):\n",
    "        return self.fit(X,y).transform(X).fillna(value=-1)\n",
    "\n",
    "\n",
    "    def inverse_transform(self, X):\n",
    "        output = X.copy()\n",
    "        columns = X.columns if self.columns is None else self.columns\n",
    "        for col in columns:\n",
    "            output[col] = self.encoders[col].inverse_transform(X[col])\n",
    "        return output.replace(-1, np.NaN)\n",
    "\n",
    "multi = MultiColumnLabelEncoder(columns=['ItemID','Sex', 'Age', 'CityType', 'YearsInCity'])\n",
    "df = multi.fit_transform(df)"
   ]
  },
  {
   "cell_type": "code",
   "execution_count": 5,
   "id": "b24bfe0f",
   "metadata": {},
   "outputs": [],
   "source": [
    "# seperate dataset and target rows\n",
    "dataset = df[df['Married'] != -1]\n",
    "target_rows = df[df['Married'] == -1]\n"
   ]
  },
  {
   "cell_type": "code",
   "execution_count": 6,
   "id": "8eb1cebb",
   "metadata": {},
   "outputs": [
    {
     "name": "stderr",
     "output_type": "stream",
     "text": [
      "C:\\Users\\Asus\\AppData\\Local\\Temp\\ipykernel_23268\\3859209566.py:5: SettingWithCopyWarning: \n",
      "A value is trying to be set on a copy of a slice from a DataFrame\n",
      "\n",
      "See the caveats in the documentation: https://pandas.pydata.org/pandas-docs/stable/user_guide/indexing.html#returning-a-view-versus-a-copy\n",
      "  dataset.drop(['Married'], axis=1, inplace=True)\n"
     ]
    }
   ],
   "source": [
    "# first we split our data into input and output\n",
    "# y is the output and is stored in \"Married\" column of dataframe\n",
    "# X contains the other columns and are features or input\n",
    "Y = dataset.Married\n",
    "dataset.drop(['Married'], axis=1, inplace=True)\n",
    "X = dataset"
   ]
  },
  {
   "cell_type": "code",
   "execution_count": 7,
   "id": "3bec1b4e",
   "metadata": {},
   "outputs": [],
   "source": [
    "# Now we split the dataset in train and test part\n",
    "# here the train set is 75% and test set is 25%\n",
    "X_train, X_test, y_train, y_test = train_test_split(X, Y, test_size=0.25, random_state=2)"
   ]
  },
  {
   "cell_type": "code",
   "execution_count": 8,
   "id": "050fb5a6",
   "metadata": {},
   "outputs": [
    {
     "data": {
      "text/plain": [
       "DecisionTreeClassifier()"
      ]
     },
     "execution_count": 8,
     "metadata": {},
     "output_type": "execute_result"
    }
   ],
   "source": [
    "# We are trying to classify marriage status so \n",
    "# here training DecisionTreeClassifier which is fit to our dataset\n",
    "DT = DecisionTreeClassifier()\n",
    "DT.fit(X_train,y_train)"
   ]
  },
  {
   "cell_type": "code",
   "execution_count": 9,
   "id": "9ef45925",
   "metadata": {},
   "outputs": [
    {
     "name": "stdout",
     "output_type": "stream",
     "text": [
      "accuracy_score:  0.9995284185787618\n",
      "f1_score:  0.9994266540091923\n"
     ]
    }
   ],
   "source": [
    "# test accuracy of model\n",
    "pred = DT.predict(X_test)\n",
    "print(\"accuracy_score: \", accuracy_score(y_test,pred))\n",
    "print(\"f1_score: \", f1_score(y_test,pred))"
   ]
  },
  {
   "cell_type": "code",
   "execution_count": 10,
   "id": "7fb254e5",
   "metadata": {},
   "outputs": [
    {
     "name": "stderr",
     "output_type": "stream",
     "text": [
      "C:\\Users\\Asus\\AppData\\Local\\Temp\\ipykernel_23268\\267042276.py:2: SettingWithCopyWarning: \n",
      "A value is trying to be set on a copy of a slice from a DataFrame\n",
      "\n",
      "See the caveats in the documentation: https://pandas.pydata.org/pandas-docs/stable/user_guide/indexing.html#returning-a-view-versus-a-copy\n",
      "  target_rows.drop(['Married'], axis=1, inplace=True)\n"
     ]
    }
   ],
   "source": [
    "# remove Married column from target rows \n",
    "target_rows.drop(['Married'], axis=1, inplace=True)"
   ]
  },
  {
   "cell_type": "code",
   "execution_count": 11,
   "id": "eff8d25d",
   "metadata": {},
   "outputs": [],
   "source": [
    "pred = DT.predict(target_rows)"
   ]
  },
  {
   "cell_type": "code",
   "execution_count": 12,
   "id": "b49e04f6",
   "metadata": {},
   "outputs": [],
   "source": [
    "# adding prediction results to our dataframe\n",
    "target_rows.insert(loc=7, column='Married', value=pred)"
   ]
  },
  {
   "cell_type": "code",
   "execution_count": 13,
   "id": "b6d9d11a",
   "metadata": {},
   "outputs": [],
   "source": [
    "# reverse transformation so we have the values as input file values\n",
    "target_rows = multi.inverse_transform(target_rows)"
   ]
  },
  {
   "cell_type": "code",
   "execution_count": 14,
   "id": "e60cefc3",
   "metadata": {},
   "outputs": [],
   "source": [
    "# save the result in csv format to OUTPUT_FILE\n",
    "target_rows.to_csv(OUTPUT_FILE)"
   ]
  },
  {
   "cell_type": "code",
   "execution_count": 15,
   "id": "220304ea",
   "metadata": {},
   "outputs": [
    {
     "data": {
      "text/html": [
       "<div>\n",
       "<style scoped>\n",
       "    .dataframe tbody tr th:only-of-type {\n",
       "        vertical-align: middle;\n",
       "    }\n",
       "\n",
       "    .dataframe tbody tr th {\n",
       "        vertical-align: top;\n",
       "    }\n",
       "\n",
       "    .dataframe thead th {\n",
       "        text-align: right;\n",
       "    }\n",
       "</style>\n",
       "<table border=\"1\" class=\"dataframe\">\n",
       "  <thead>\n",
       "    <tr style=\"text-align: right;\">\n",
       "      <th></th>\n",
       "      <th>CustomerID</th>\n",
       "      <th>ItemID</th>\n",
       "      <th>Sex</th>\n",
       "      <th>Age</th>\n",
       "      <th>Profession</th>\n",
       "      <th>CityType</th>\n",
       "      <th>YearsInCity</th>\n",
       "      <th>Married</th>\n",
       "      <th>ItemCategory1</th>\n",
       "      <th>ItemCategory2</th>\n",
       "      <th>ItemCategory3</th>\n",
       "      <th>Amount</th>\n",
       "    </tr>\n",
       "  </thead>\n",
       "  <tbody>\n",
       "    <tr>\n",
       "      <th>0</th>\n",
       "      <td>1000001</td>\n",
       "      <td>670</td>\n",
       "      <td>0</td>\n",
       "      <td>0</td>\n",
       "      <td>10</td>\n",
       "      <td>0</td>\n",
       "      <td>2</td>\n",
       "      <td>0.0</td>\n",
       "      <td>3</td>\n",
       "      <td>-1.0</td>\n",
       "      <td>-1.0</td>\n",
       "      <td>8370</td>\n",
       "    </tr>\n",
       "    <tr>\n",
       "      <th>1</th>\n",
       "      <td>1000001</td>\n",
       "      <td>2374</td>\n",
       "      <td>0</td>\n",
       "      <td>0</td>\n",
       "      <td>10</td>\n",
       "      <td>0</td>\n",
       "      <td>2</td>\n",
       "      <td>0.0</td>\n",
       "      <td>1</td>\n",
       "      <td>6.0</td>\n",
       "      <td>14.0</td>\n",
       "      <td>15200</td>\n",
       "    </tr>\n",
       "    <tr>\n",
       "      <th>2</th>\n",
       "      <td>1000001</td>\n",
       "      <td>850</td>\n",
       "      <td>0</td>\n",
       "      <td>0</td>\n",
       "      <td>10</td>\n",
       "      <td>0</td>\n",
       "      <td>2</td>\n",
       "      <td>0.0</td>\n",
       "      <td>12</td>\n",
       "      <td>-1.0</td>\n",
       "      <td>-1.0</td>\n",
       "      <td>1422</td>\n",
       "    </tr>\n",
       "    <tr>\n",
       "      <th>3</th>\n",
       "      <td>1000001</td>\n",
       "      <td>826</td>\n",
       "      <td>0</td>\n",
       "      <td>0</td>\n",
       "      <td>10</td>\n",
       "      <td>0</td>\n",
       "      <td>2</td>\n",
       "      <td>0.0</td>\n",
       "      <td>12</td>\n",
       "      <td>14.0</td>\n",
       "      <td>-1.0</td>\n",
       "      <td>1057</td>\n",
       "    </tr>\n",
       "    <tr>\n",
       "      <th>4</th>\n",
       "      <td>1000002</td>\n",
       "      <td>2732</td>\n",
       "      <td>1</td>\n",
       "      <td>6</td>\n",
       "      <td>16</td>\n",
       "      <td>2</td>\n",
       "      <td>4</td>\n",
       "      <td>0.0</td>\n",
       "      <td>8</td>\n",
       "      <td>-1.0</td>\n",
       "      <td>-1.0</td>\n",
       "      <td>7969</td>\n",
       "    </tr>\n",
       "    <tr>\n",
       "      <th>...</th>\n",
       "      <td>...</td>\n",
       "      <td>...</td>\n",
       "      <td>...</td>\n",
       "      <td>...</td>\n",
       "      <td>...</td>\n",
       "      <td>...</td>\n",
       "      <td>...</td>\n",
       "      <td>...</td>\n",
       "      <td>...</td>\n",
       "      <td>...</td>\n",
       "      <td>...</td>\n",
       "      <td>...</td>\n",
       "    </tr>\n",
       "    <tr>\n",
       "      <th>537572</th>\n",
       "      <td>1004737</td>\n",
       "      <td>1829</td>\n",
       "      <td>1</td>\n",
       "      <td>3</td>\n",
       "      <td>16</td>\n",
       "      <td>2</td>\n",
       "      <td>1</td>\n",
       "      <td>0.0</td>\n",
       "      <td>1</td>\n",
       "      <td>2.0</td>\n",
       "      <td>-1.0</td>\n",
       "      <td>11664</td>\n",
       "    </tr>\n",
       "    <tr>\n",
       "      <th>537573</th>\n",
       "      <td>1004737</td>\n",
       "      <td>1018</td>\n",
       "      <td>1</td>\n",
       "      <td>3</td>\n",
       "      <td>16</td>\n",
       "      <td>2</td>\n",
       "      <td>1</td>\n",
       "      <td>0.0</td>\n",
       "      <td>1</td>\n",
       "      <td>15.0</td>\n",
       "      <td>16.0</td>\n",
       "      <td>19196</td>\n",
       "    </tr>\n",
       "    <tr>\n",
       "      <th>537574</th>\n",
       "      <td>1004737</td>\n",
       "      <td>3316</td>\n",
       "      <td>1</td>\n",
       "      <td>3</td>\n",
       "      <td>16</td>\n",
       "      <td>2</td>\n",
       "      <td>1</td>\n",
       "      <td>0.0</td>\n",
       "      <td>8</td>\n",
       "      <td>15.0</td>\n",
       "      <td>-1.0</td>\n",
       "      <td>8043</td>\n",
       "    </tr>\n",
       "    <tr>\n",
       "      <th>537575</th>\n",
       "      <td>1004737</td>\n",
       "      <td>2736</td>\n",
       "      <td>1</td>\n",
       "      <td>3</td>\n",
       "      <td>16</td>\n",
       "      <td>2</td>\n",
       "      <td>1</td>\n",
       "      <td>0.0</td>\n",
       "      <td>5</td>\n",
       "      <td>-1.0</td>\n",
       "      <td>-1.0</td>\n",
       "      <td>7172</td>\n",
       "    </tr>\n",
       "    <tr>\n",
       "      <th>537576</th>\n",
       "      <td>1004737</td>\n",
       "      <td>1089</td>\n",
       "      <td>1</td>\n",
       "      <td>3</td>\n",
       "      <td>16</td>\n",
       "      <td>2</td>\n",
       "      <td>1</td>\n",
       "      <td>0.0</td>\n",
       "      <td>5</td>\n",
       "      <td>8.0</td>\n",
       "      <td>-1.0</td>\n",
       "      <td>6875</td>\n",
       "    </tr>\n",
       "  </tbody>\n",
       "</table>\n",
       "<p>537577 rows × 12 columns</p>\n",
       "</div>"
      ],
      "text/plain": [
       "        CustomerID  ItemID  Sex  Age  Profession  CityType  YearsInCity  \\\n",
       "0          1000001     670    0    0          10         0            2   \n",
       "1          1000001    2374    0    0          10         0            2   \n",
       "2          1000001     850    0    0          10         0            2   \n",
       "3          1000001     826    0    0          10         0            2   \n",
       "4          1000002    2732    1    6          16         2            4   \n",
       "...            ...     ...  ...  ...         ...       ...          ...   \n",
       "537572     1004737    1829    1    3          16         2            1   \n",
       "537573     1004737    1018    1    3          16         2            1   \n",
       "537574     1004737    3316    1    3          16         2            1   \n",
       "537575     1004737    2736    1    3          16         2            1   \n",
       "537576     1004737    1089    1    3          16         2            1   \n",
       "\n",
       "        Married  ItemCategory1  ItemCategory2  ItemCategory3  Amount  \n",
       "0           0.0              3           -1.0           -1.0    8370  \n",
       "1           0.0              1            6.0           14.0   15200  \n",
       "2           0.0             12           -1.0           -1.0    1422  \n",
       "3           0.0             12           14.0           -1.0    1057  \n",
       "4           0.0              8           -1.0           -1.0    7969  \n",
       "...         ...            ...            ...            ...     ...  \n",
       "537572      0.0              1            2.0           -1.0   11664  \n",
       "537573      0.0              1           15.0           16.0   19196  \n",
       "537574      0.0              8           15.0           -1.0    8043  \n",
       "537575      0.0              5           -1.0           -1.0    7172  \n",
       "537576      0.0              5            8.0           -1.0    6875  \n",
       "\n",
       "[537577 rows x 12 columns]"
      ]
     },
     "execution_count": 15,
     "metadata": {},
     "output_type": "execute_result"
    }
   ],
   "source": [
    "df"
   ]
  },
  {
   "cell_type": "code",
   "execution_count": null,
   "id": "983343f3",
   "metadata": {},
   "outputs": [],
   "source": []
  },
  {
   "cell_type": "code",
   "execution_count": null,
   "id": "99224149",
   "metadata": {},
   "outputs": [],
   "source": []
  }
 ],
 "metadata": {
  "kernelspec": {
   "display_name": "Python 3 (ipykernel)",
   "language": "python",
   "name": "python3"
  },
  "language_info": {
   "codemirror_mode": {
    "name": "ipython",
    "version": 3
   },
   "file_extension": ".py",
   "mimetype": "text/x-python",
   "name": "python",
   "nbconvert_exporter": "python",
   "pygments_lexer": "ipython3",
   "version": "3.8.5"
  }
 },
 "nbformat": 4,
 "nbformat_minor": 5
}
